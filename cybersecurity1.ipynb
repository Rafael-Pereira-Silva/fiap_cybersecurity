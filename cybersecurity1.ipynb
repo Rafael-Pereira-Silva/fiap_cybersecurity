{
  "nbformat": 4,
  "nbformat_minor": 0,
  "metadata": {
    "colab": {
      "name": "cybersecurity1.ipynb",
      "provenance": [],
      "collapsed_sections": [],
      "authorship_tag": "ABX9TyPZTGv6AwEIQyhqYCsQ/w9s",
      "include_colab_link": true
    },
    "kernelspec": {
      "name": "python3",
      "display_name": "Python 3"
    },
    "language_info": {
      "name": "python"
    }
  },
  "cells": [
    {
      "cell_type": "markdown",
      "metadata": {
        "id": "view-in-github",
        "colab_type": "text"
      },
      "source": [
        "<a href=\"https://colab.research.google.com/github/Rafael-Pereira-Silva/fiap_cybersecurity/blob/main/cybersecurity1.ipynb\" target=\"_parent\"><img src=\"https://colab.research.google.com/assets/colab-badge.svg\" alt=\"Open In Colab\"/></a>"
      ]
    },
    {
      "cell_type": "markdown",
      "source": [
        "Identificação de fraude em e-commerce"
      ],
      "metadata": {
        "id": "22owRLG9FTrG"
      }
    },
    {
      "cell_type": "code",
      "source": [
        "import re # biblioteca que ajuda a manipular textos\n"
      ],
      "metadata": {
        "id": "HiWWF9cs1mfB"
      },
      "execution_count": 1,
      "outputs": []
    },
    {
      "cell_type": "code",
      "execution_count": null,
      "metadata": {
        "id": "t9479E3ZDrvY"
      },
      "outputs": [],
      "source": [
        "# whatsapp, número de telefone, contato privado, envio por fora, pix, conta bancária, entrega pessoal, depósito bancário, depósito bancário pessoal, "
      ]
    },
    {
      "cell_type": "code",
      "source": [
        "lista = ['whatsapp', 'pv','número de telefone', 'contato privado', 'envio por fora', 'pagamento via pix', 'conta bancária', 'entrega pessoal', 'depósito bancário', 'depósito bancário pessoal', 'CPf', 'informações pessoais', 'telefone', 'venda por outro site', 'venda por outra plataforma', 'venda via whatsapp', 'contato via whats', 'pagamento via whatsapp']\n",
        "texto = input()\n",
        "if texto in lista:\n",
        "  print(\"Item proíbido\")\n",
        "else:\n",
        "  print(\"Item permitido\")"
      ],
      "metadata": {
        "colab": {
          "base_uri": "https://localhost:8080/"
        },
        "id": "eta8JzpGwz_U",
        "outputId": "d2812111-891a-4486-f295-b569577689d4"
      },
      "execution_count": null,
      "outputs": [
        {
          "output_type": "stream",
          "name": "stdout",
          "text": [
            "privado\n",
            "Item permitido\n"
          ]
        }
      ]
    },
    {
      "cell_type": "code",
      "source": [
        "def getMatchRegex(field):\n",
        "  match = re.search('(?i)(whatsapp)|( pv )| (negociação de valor)|(por fora)|(pv)|(número de telefone)|(contato privado)|(envio por fora)|(pagamento via pix)|(conta bancária)|(entrega pessoal)|(depósito bancário)|(depósito bancário pessoal)|(CPf)|(informações pessoais)|(telefone)|(venda por outro site)|(venda por outra plataforma)|(venda via whatsapp)|(contato via whats)|(pagamento via whatsapp)|(negócios via whatsapp.)', field.lower())\n",
        "\n",
        "  if match:\n",
        "    print(\"Fraude? Sim\")\n",
        "  else:\n",
        "    print(\"FraudeS? Não\")\n",
        "\n",
        "getMatchRegex(input()) \n"
      ],
      "metadata": {
        "id": "e9Bck2pu4dID",
        "colab": {
          "base_uri": "https://localhost:8080/"
        },
        "outputId": "a1950679-41f4-4c19-d97d-3788531f0310"
      },
      "execution_count": 2,
      "outputs": [
        {
          "output_type": "stream",
          "name": "stdout",
          "text": [
            "manda no pv\n",
            "Fraude? Não\n"
          ]
        }
      ]
    }
  ]
}