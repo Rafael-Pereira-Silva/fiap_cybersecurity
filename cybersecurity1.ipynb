{
  "nbformat": 4,
  "nbformat_minor": 0,
  "metadata": {
    "colab": {
      "name": "cybersecurity1.ipynb",
      "provenance": [],
      "collapsed_sections": [],
      "authorship_tag": "ABX9TyN4kZNTzMcw8yjTYXfFvDgO",
      "include_colab_link": true
    },
    "kernelspec": {
      "name": "python3",
      "display_name": "Python 3"
    },
    "language_info": {
      "name": "python"
    }
  },
  "cells": [
    {
      "cell_type": "markdown",
      "metadata": {
        "id": "view-in-github",
        "colab_type": "text"
      },
      "source": [
        "<a href=\"https://colab.research.google.com/github/Rafael-Pereira-Silva/fiap_cybersecurity/blob/main/cybersecurity1.ipynb\" target=\"_parent\"><img src=\"https://colab.research.google.com/assets/colab-badge.svg\" alt=\"Open In Colab\"/></a>"
      ]
    },
    {
      "cell_type": "markdown",
      "source": [
        "Identificação de fraude em e-commerce"
      ],
      "metadata": {
        "id": "22owRLG9FTrG"
      }
    },
    {
      "cell_type": "code",
      "source": [
        "import re # biblioteca que ajuda a manipular textos\n"
      ],
      "metadata": {
        "id": "HiWWF9cs1mfB"
      },
      "execution_count": null,
      "outputs": []
    },
    {
      "cell_type": "code",
      "execution_count": null,
      "metadata": {
        "id": "t9479E3ZDrvY"
      },
      "outputs": [],
      "source": [
        "# whatsapp, número de telefone, contato privado, envio por fora, pix, conta bancária, entrega pessoal, depósito bancário, depósito bancário pessoal, "
      ]
    },
    {
      "cell_type": "code",
      "source": [
        "lista = ['whatsapp', 'pv','número de telefone', 'contato privado', 'envio por fora', 'pagamento via pix', 'conta bancária', 'entrega pessoal', 'depósito bancário', 'depósito bancário pessoal', 'CPf', 'informações pessoais', 'telefone', 'venda por outro site', 'venda por outra plataforma', 'venda via whatsapp', 'contato via whats', 'pagamento via whatsapp']\n",
        "texto = input()\n",
        "if texto in lista:\n",
        "  print(\"Item proíbido\")\n",
        "else:\n",
        "  print(\"Item permitido\")"
      ],
      "metadata": {
        "colab": {
          "base_uri": "https://localhost:8080/"
        },
        "id": "eta8JzpGwz_U",
        "outputId": "adce7ceb-0246-438d-e1fd-b80ee3362eda"
      },
      "execution_count": null,
      "outputs": [
        {
          "output_type": "stream",
          "name": "stdout",
          "text": [
            "pv\n",
            "Item proíbido\n"
          ]
        }
      ]
    },
    {
      "cell_type": "code",
      "source": [
        "def getMatchRegex(field):\n",
        "  match = re.search('(?i)(whatsapp)|( pv )| (negociação de valor)|(por fora)|(pv)|(número de telefone)|(contato privado)|(envio por fora)|(pagamento via pix)|(conta bancária)|(entrega pessoal)|(depósito bancário)|(depósito bancário pessoal)|(CPf)|(informações pessoais)|(telefone)|(venda por outro site)|(venda por outra plataforma)|(venda via whatsapp)|(contato via whats)|(pagamento via whatsapp)|(negócios via whatsapp.)', field.lower())\n",
        "\n",
        "  if match:\n",
        "    print(\"Fraude? Sim\")\n",
        "  else:\n",
        "    print(\"FraudeS? Não\")\n",
        "\n",
        "getMatchRegex(input()) \n"
      ],
      "metadata": {
        "id": "e9Bck2pu4dID",
        "colab": {
          "base_uri": "https://localhost:8080/"
        },
        "outputId": "5a095178-c002-4371-a5f2-6319c35b4fe1"
      },
      "execution_count": null,
      "outputs": [
        {
          "output_type": "stream",
          "name": "stdout",
          "text": [
            "Pr0duto importado, c0mpr3 via wh4tsapp\n",
            "FraudeS? Não\n"
          ]
        }
      ]
    },
    {
      "cell_type": "code",
      "source": [
        "!pip install fuzzywuzzy[speedup]\n",
        "from fuzzywuzzy import process"
      ],
      "metadata": {
        "colab": {
          "base_uri": "https://localhost:8080/"
        },
        "id": "NG4gjbiH4wtt",
        "outputId": "3374e1bf-a436-4ce8-e107-79303de0e9bc"
      },
      "execution_count": null,
      "outputs": [
        {
          "output_type": "stream",
          "name": "stdout",
          "text": [
            "Requirement already satisfied: fuzzywuzzy[speedup] in /usr/local/lib/python3.7/dist-packages (0.18.0)\n",
            "Requirement already satisfied: python-levenshtein>=0.12 in /usr/local/lib/python3.7/dist-packages (from fuzzywuzzy[speedup]) (0.12.2)\n",
            "Requirement already satisfied: setuptools in /usr/local/lib/python3.7/dist-packages (from python-levenshtein>=0.12->fuzzywuzzy[speedup]) (57.4.0)\n"
          ]
        }
      ]
    },
    {
      "cell_type": "code",
      "source": [
        "lista = ['whatsapp', 'pv','número de telefone', 'contato privado', 'envio por fora', 'pagamento via pix', 'conta bancária', 'entrega pessoal', 'depósito bancário', 'depósito bancário pessoal', 'CPf', 'informações pessoais', 'telefone', 'venda por outro site', 'venda por outra plataforma', 'venda via whatsapp', 'contato via whats', 'pagamento via whatsapp']\n",
        "texto = input(\"Digite o texto: \")\n",
        "\n",
        "process.extract(texto, lista)\n"
      ],
      "metadata": {
        "colab": {
          "base_uri": "https://localhost:8080/"
        },
        "id": "U4Z6VlFk4iyl",
        "outputId": "f0af6884-298a-4435-c5f6-4b7eb663a0db"
      },
      "execution_count": null,
      "outputs": [
        {
          "name": "stdout",
          "output_type": "stream",
          "text": [
            "Digite o texto: pagamento via pix e whatsapp\n"
          ]
        },
        {
          "output_type": "execute_result",
          "data": {
            "text/plain": [
              "[('pagamento via whatsapp', 95),\n",
              " ('whatsapp', 90),\n",
              " ('pagamento via pix', 90),\n",
              " ('venda via whatsapp', 86),\n",
              " ('contato via whats', 86)]"
            ]
          },
          "metadata": {},
          "execution_count": 36
        }
      ]
    },
    {
      "cell_type": "code",
      "source": [
        "def getMatch(field):\n",
        "  match_list = ['whatsapp', 'pv','número de telefone', 'contato privado', 'envio por fora', 'pagamento via pix', 'conta bancária', 'entrega pessoal', 'depósito bancário', 'depósito bancário pessoal', 'CPf', 'informações pessoais', 'telefone', 'venda por outro site', 'venda por outra plataforma', 'venda via whatsapp', 'contato via whats', 'pagamento via whatsapp']\n",
        "\n",
        "  search_list = process.extract(field,match_list)\n",
        "  #threshold\n",
        "\n",
        "  result = []\n",
        "\n",
        "  for text in search_list:\n",
        "    if text[1] > 54:\n",
        "      result.append(text)\n",
        "  \n",
        "  if len(result) == 0:\n",
        "    return 'Palavra Inapropriada? Não'\n",
        "  return 'Palavra Inapropriada? Sim'\n",
        "\n",
        "getMatch(input())"
      ],
      "metadata": {
        "colab": {
          "base_uri": "https://localhost:8080/",
          "height": 52
        },
        "id": "fWyRAWo14DF4",
        "outputId": "d9da25f9-58e8-4b4d-fdab-aecdb92bb9df"
      },
      "execution_count": null,
      "outputs": [
        {
          "name": "stdout",
          "output_type": "stream",
          "text": [
            "aceitamos pagamento via pix\n"
          ]
        },
        {
          "output_type": "execute_result",
          "data": {
            "text/plain": [
              "'Palavra Inapropriada? Sim'"
            ],
            "application/vnd.google.colaboratory.intrinsic+json": {
              "type": "string"
            }
          },
          "metadata": {},
          "execution_count": 32
        }
      ]
    }
  ]
}